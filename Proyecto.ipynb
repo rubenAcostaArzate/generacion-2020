{
  "nbformat": 4,
  "nbformat_minor": 0,
  "metadata": {
    "colab": {
      "provenance": [],
      "toc_visible": true,
      "authorship_tag": "ABX9TyND4jBRIHpWFm+zaLlKXTf9",
      "include_colab_link": true
    },
    "kernelspec": {
      "name": "python3",
      "display_name": "Python 3"
    },
    "language_info": {
      "name": "python"
    }
  },
  "cells": [
    {
      "cell_type": "markdown",
      "metadata": {
        "id": "view-in-github",
        "colab_type": "text"
      },
      "source": [
        "<a href=\"https://colab.research.google.com/github/rubenAcostaArzate/generacion-2020/blob/master/Proyecto.ipynb\" target=\"_parent\"><img src=\"https://colab.research.google.com/assets/colab-badge.svg\" alt=\"Open In Colab\"/></a>"
      ]
    },
    {
      "cell_type": "markdown",
      "source": [
        "# **Proyecto**\n",
        "\n",
        "\n",
        "\n"
      ],
      "metadata": {
        "id": "4OE1jiuQylsG"
      }
    },
    {
      "cell_type": "markdown",
      "source": [
        "# **Integrantes:**\n",
        "\n",
        " - Ruben Acosta Arzate \n",
        " - Jesus Israel Gutierrez Elizalde\n",
        " - Erick Martinez Piza \n",
        " - Mauricio \n",
        " - Angel \n",
        "\n"
      ],
      "metadata": {
        "id": "V0KxN4AlzFRc"
      }
    },
    {
      "cell_type": "markdown",
      "source": [
        "# **Descripcion:**\n",
        "\n",
        "Nuestro proyecto consiste en hacer una IA que pueda jugar conecta 4 y escoja la mejor opcion posible"
      ],
      "metadata": {
        "id": "iFLNyCc202M5"
      }
    },
    {
      "cell_type": "markdown",
      "source": [],
      "metadata": {
        "id": "XB5x4j2o134A"
      }
    },
    {
      "cell_type": "code",
      "execution_count": null,
      "metadata": {
        "id": "aV7FHE0px0lU"
      },
      "outputs": [],
      "source": []
    }
  ]
}